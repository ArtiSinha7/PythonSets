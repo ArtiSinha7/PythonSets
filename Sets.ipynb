{
  "metadata": {
    "kernelspec": {
      "name": "",
      "display_name": ""
    },
    "language_info": {
      "name": ""
    }
  },
  "nbformat_minor": 4,
  "nbformat": 4,
  "cells": [
    {
      "cell_type": "code",
      "source": "Q1. What is a set in Python?\n\nAns: A set in Python is an unordered collection of unique elements. Sets are mutable, meaning you can add or remove elements, but they do not allow duplicate values. They are useful for operations that require uniqueness, such as removing duplicates from a list or performing mathematical set operations (like unions and intersections).\n\n",
      "metadata": {
        "trusted": true
      },
      "outputs": [],
      "execution_count": null
    },
    {
      "cell_type": "code",
      "source": "Q2.How do you create a set in Python?\nAns: You can create a set in Python using two main methods: using curly braces {} or using the set() constructor. \n\nUsing curly braces\n\nmy_set = {1, 2, 3, 4, 5}\nprint(my_set)\n\n  # Output: {1, 2, 3, 4, 5}\n\nUsing set() constructor\n\nmy_list = [1, 2, 2, 3, 4]\n my_set = set(my_list)     \nprint(my_set)            \n\n  # Output: {1, 2, 3, 4}\n\n",
      "metadata": {
        "trusted": true
      },
      "outputs": [],
      "execution_count": null
    },
    {
      "cell_type": "code",
      "source": "Q3. How do you add elements to a set in Python?\n\nAns: We can add elements to a set in Python using the add() method or the update() method. \n\nUsing add() method\nThe add() method adds a single element to the set. If the element already exists in the set, it will not be added again (no duplicates).\n\nmy_set = {1, 2, 3}\nmy_set.add(4) \n print(my_set)      \n\n   # Output: {1, 2, 3, 4}\n\nmy_set.add(2)        \nprint(my_set)    \n\n     # Output: {1, 2, 3, 4} (unchanged)\n\n\nUsing update()\nThe update() method can add multiple elements to the set at once. You can pass an iterable (like a list, tuple, or another set) to this method.\nmy_set = {1, 2, 3}\nmy_set.update([4, 5])  \nprint(my_set)          \n\n # Output: {1, 2, 3, 4, 5}\n\nmy_set.update({6, 7})  \nprint(my_set)       \n\n    # Output: {1, 2, 3, 4, 5, 6, 7}\n",
      "metadata": {
        "trusted": true
      },
      "outputs": [],
      "execution_count": null
    },
    {
      "cell_type": "code",
      "source": "Q3. How do you add elements to a set in Python?\n\nAns: We can add elements to a set in Python using the add() method or the update() method. \n\nUsing add() method\nThe add() method adds a single element to the set. If the element already exists in the set, it will not be added again (no duplicates).\n\nmy_set = {1, 2, 3}\nmy_set.add(4) \n print(my_set)      \n\n   # Output: {1, 2, 3, 4}\n\nmy_set.add(2)        \nprint(my_set)    \n\n     # Output: {1, 2, 3, 4} (unchanged)\n\n\nUsing update()\nThe update() method can add multiple elements to the set at once. You can pass an iterable (like a list, tuple, or another set) to this method.\nmy_set = {1, 2, 3}\nmy_set.update([4, 5])  \nprint(my_set)          \n\n # Output: {1, 2, 3, 4, 5}\n\nmy_set.update({6, 7})  \nprint(my_set)       \n\n    # Output: {1, 2, 3, 4, 5, 6, 7}\n",
      "metadata": {
        "trusted": true
      },
      "outputs": [],
      "execution_count": null
    },
    {
      "cell_type": "code",
      "source": "Q3. How do you add elements to a set in Python?\n\nAns: We can add elements to a set in Python using the add() method or the update() method. \n\nUsing add() method\nThe add() method adds a single element to the set. If the element already exists in the set, it will not be added again (no duplicates).\n\nmy_set = {1, 2, 3}\nmy_set.add(4) \n print(my_set)      \n\n   # Output: {1, 2, 3, 4}\n\nmy_set.add(2)        \nprint(my_set)    \n\n     # Output: {1, 2, 3, 4} (unchanged)\n\n\nUsing update()\nThe update() method can add multiple elements to the set at once. You can pass an iterable (like a list, tuple, or another set) to this method.\nmy_set = {1, 2, 3}\nmy_set.update([4, 5])  \nprint(my_set)          \n\n # Output: {1, 2, 3, 4, 5}\n\nmy_set.update({6, 7})  \nprint(my_set)       \n\n    # Output: {1, 2, 3, 4, 5, 6, 7}\n",
      "metadata": {
        "trusted": true
      },
      "outputs": [],
      "execution_count": null
    }
  ]
}